{
 "cells": [
  {
   "cell_type": "code",
   "execution_count": 23,
   "id": "b378d766",
   "metadata": {},
   "outputs": [],
   "source": [
    "import pandas as pd\n",
    "import numpy as np\n",
    "import matplotlib.pyplot as plt\n",
    "import matplotlib\n",
    "from matplotlib.patches import Patch\n",
    "import datetime as dt\n",
    "import seaborn as sns; sns.set()\n",
    "\n",
    "# make sure the plots are shown in the notebook inline\n",
    "%matplotlib inline"
   ]
  },
  {
   "cell_type": "code",
   "execution_count": 24,
   "id": "f2845e28",
   "metadata": {},
   "outputs": [
    {
     "data": {
      "text/html": [
       "<div>\n",
       "<style scoped>\n",
       "    .dataframe tbody tr th:only-of-type {\n",
       "        vertical-align: middle;\n",
       "    }\n",
       "\n",
       "    .dataframe tbody tr th {\n",
       "        vertical-align: top;\n",
       "    }\n",
       "\n",
       "    .dataframe thead th {\n",
       "        text-align: right;\n",
       "    }\n",
       "</style>\n",
       "<table border=\"1\" class=\"dataframe\">\n",
       "  <thead>\n",
       "    <tr style=\"text-align: right;\">\n",
       "      <th></th>\n",
       "      <th>ID</th>\n",
       "      <th>Start time</th>\n",
       "      <th>Completion time</th>\n",
       "      <th>Email</th>\n",
       "      <th>Name</th>\n",
       "      <th>Language</th>\n",
       "      <th>Jeg bruger en virtuel assistent (Siri, Google Assistent, Alexa) i forvejen.</th>\n",
       "      <th>En virtuel assistent på min computer kunne være interessant at prøve.</th>\n",
       "      <th>Følgende er en liste over mulige funktioner, en sådan assistent kunne udføre på din computer. Markere venligst ALLE, som du synes kunne være interessante.\\nHusk, at alle funktioner er stemmestyret.</th>\n",
       "      <th>Hvis du har forslag til andre funktioner, må du gerne skrive dem her.</th>\n",
       "      <th>Skal assistenten kende dit navn og bruge det når han/hun taler til dig?</th>\n",
       "      <th>Skal assistenten vise det han/hun siger for at fremme forståelse (\"undertekster\")?</th>\n",
       "      <th>Skal assistentens sprog være formelt eller mere familiært? For eksempen, skal han/hun sige \"Undskyld, jeg har ikke forstået\", eller er det ok med \"Hvabeha?\" :)</th>\n",
       "      <th>Skal assistenten være en mand, en kvinde, eller ikke-binær?</th>\n",
       "      <th>Hvor gammel er du?</th>\n",
       "      <th>Hvad er dit køn?</th>\n",
       "    </tr>\n",
       "  </thead>\n",
       "  <tbody>\n",
       "    <tr>\n",
       "      <th>0</th>\n",
       "      <td>1</td>\n",
       "      <td>2022-02-10 17:12:48</td>\n",
       "      <td>2022-02-10 17:15:08</td>\n",
       "      <td>anonymous</td>\n",
       "      <td>NaN</td>\n",
       "      <td>Dansk</td>\n",
       "      <td>Nej</td>\n",
       "      <td>Ja</td>\n",
       "      <td>Informationssøgning på Google;Oversættelse til...</td>\n",
       "      <td>Gemme det arbejde man er i gang med</td>\n",
       "      <td>Nej</td>\n",
       "      <td>Ja</td>\n",
       "      <td>Formelt sprog</td>\n",
       "      <td>Kvinde</td>\n",
       "      <td>25-34</td>\n",
       "      <td>Kvinde</td>\n",
       "    </tr>\n",
       "    <tr>\n",
       "      <th>1</th>\n",
       "      <td>2</td>\n",
       "      <td>2022-02-10 17:15:01</td>\n",
       "      <td>2022-02-10 17:19:38</td>\n",
       "      <td>anonymous</td>\n",
       "      <td>NaN</td>\n",
       "      <td>Dansk</td>\n",
       "      <td>Nej</td>\n",
       "      <td>Ja</td>\n",
       "      <td>Informationssøgning på Google;Oplæse indkomne ...</td>\n",
       "      <td>Har ikke andre forslag</td>\n",
       "      <td>Nej</td>\n",
       "      <td>Ja</td>\n",
       "      <td>Formelt sprog</td>\n",
       "      <td>Mand</td>\n",
       "      <td>55-64</td>\n",
       "      <td>Kvinde</td>\n",
       "    </tr>\n",
       "    <tr>\n",
       "      <th>2</th>\n",
       "      <td>3</td>\n",
       "      <td>2022-02-10 17:22:48</td>\n",
       "      <td>2022-02-10 17:25:34</td>\n",
       "      <td>anonymous</td>\n",
       "      <td>NaN</td>\n",
       "      <td>Dansk</td>\n",
       "      <td>Ja</td>\n",
       "      <td>Ja</td>\n",
       "      <td>Informationssøgning på Google;Informationssøgn...</td>\n",
       "      <td>Nej</td>\n",
       "      <td>Ja</td>\n",
       "      <td>Ja</td>\n",
       "      <td>Familiært sprog</td>\n",
       "      <td>Mand</td>\n",
       "      <td>45-54</td>\n",
       "      <td>Mand</td>\n",
       "    </tr>\n",
       "    <tr>\n",
       "      <th>3</th>\n",
       "      <td>4</td>\n",
       "      <td>2022-02-10 17:22:17</td>\n",
       "      <td>2022-02-10 17:26:16</td>\n",
       "      <td>anonymous</td>\n",
       "      <td>NaN</td>\n",
       "      <td>Dansk</td>\n",
       "      <td>Nej</td>\n",
       "      <td>Ja</td>\n",
       "      <td>Oversættelse til et valgfrit sprog (Google ove...</td>\n",
       "      <td>At det er nemt at aktivere</td>\n",
       "      <td>Nej</td>\n",
       "      <td>Ja</td>\n",
       "      <td>Familiært sprog</td>\n",
       "      <td>Ikke-binær</td>\n",
       "      <td>55-64</td>\n",
       "      <td>Kvinde</td>\n",
       "    </tr>\n",
       "    <tr>\n",
       "      <th>4</th>\n",
       "      <td>5</td>\n",
       "      <td>2022-02-10 17:27:24</td>\n",
       "      <td>2022-02-10 17:29:31</td>\n",
       "      <td>anonymous</td>\n",
       "      <td>NaN</td>\n",
       "      <td>Dansk</td>\n",
       "      <td>Ja</td>\n",
       "      <td>Ja</td>\n",
       "      <td>Oversættelse til et valgfrit sprog (Google ove...</td>\n",
       "      <td>Nej</td>\n",
       "      <td>Ja</td>\n",
       "      <td>Ja</td>\n",
       "      <td>Familiært sprog</td>\n",
       "      <td>Ikke-binær</td>\n",
       "      <td>45-54</td>\n",
       "      <td>Kvinde</td>\n",
       "    </tr>\n",
       "  </tbody>\n",
       "</table>\n",
       "</div>"
      ],
      "text/plain": [
       "   ID          Start time     Completion time      Email  Name Language  \\\n",
       "0   1 2022-02-10 17:12:48 2022-02-10 17:15:08  anonymous   NaN    Dansk   \n",
       "1   2 2022-02-10 17:15:01 2022-02-10 17:19:38  anonymous   NaN    Dansk   \n",
       "2   3 2022-02-10 17:22:48 2022-02-10 17:25:34  anonymous   NaN    Dansk   \n",
       "3   4 2022-02-10 17:22:17 2022-02-10 17:26:16  anonymous   NaN    Dansk   \n",
       "4   5 2022-02-10 17:27:24 2022-02-10 17:29:31  anonymous   NaN    Dansk   \n",
       "\n",
       "  Jeg bruger en virtuel assistent (Siri, Google Assistent, Alexa) i forvejen.  \\\n",
       "0                                                Nej                            \n",
       "1                                                Nej                            \n",
       "2                                                 Ja                            \n",
       "3                                                Nej                            \n",
       "4                                                 Ja                            \n",
       "\n",
       "  En virtuel assistent på min computer kunne være interessant at prøve.  \\\n",
       "0                                                 Ja                      \n",
       "1                                                 Ja                      \n",
       "2                                                 Ja                      \n",
       "3                                                 Ja                      \n",
       "4                                                 Ja                      \n",
       "\n",
       "  Følgende er en liste over mulige funktioner, en sådan assistent kunne udføre på din computer. Markere venligst ALLE, som du synes kunne være interessante.\\nHusk, at alle funktioner er stemmestyret.  \\\n",
       "0  Informationssøgning på Google;Oversættelse til...                                                                                                                                                      \n",
       "1  Informationssøgning på Google;Oplæse indkomne ...                                                                                                                                                      \n",
       "2  Informationssøgning på Google;Informationssøgn...                                                                                                                                                      \n",
       "3  Oversættelse til et valgfrit sprog (Google ove...                                                                                                                                                      \n",
       "4  Oversættelse til et valgfrit sprog (Google ove...                                                                                                                                                      \n",
       "\n",
       "  Hvis du har forslag til andre funktioner, må du gerne skrive dem her.  \\\n",
       "0                Gemme det arbejde man er i gang med                      \n",
       "1                             Har ikke andre forslag                      \n",
       "2                                               Nej                       \n",
       "3                        At det er nemt at aktivere                       \n",
       "4                                                Nej                      \n",
       "\n",
       "  Skal assistenten kende dit navn og bruge det når han/hun taler til dig?  \\\n",
       "0                                                Nej                        \n",
       "1                                                Nej                        \n",
       "2                                                 Ja                        \n",
       "3                                                Nej                        \n",
       "4                                                 Ja                        \n",
       "\n",
       "  Skal assistenten vise det han/hun siger for at fremme forståelse (\"undertekster\")?  \\\n",
       "0                                                 Ja                                   \n",
       "1                                                 Ja                                   \n",
       "2                                                 Ja                                   \n",
       "3                                                 Ja                                   \n",
       "4                                                 Ja                                   \n",
       "\n",
       "  Skal assistentens sprog være formelt eller mere familiært? For eksempen, skal han/hun sige \"Undskyld, jeg har ikke forstået\", eller er det ok med \"Hvabeha?\" :)  \\\n",
       "0                                      Formelt sprog                                                                                                                \n",
       "1                                      Formelt sprog                                                                                                                \n",
       "2                                    Familiært sprog                                                                                                                \n",
       "3                                    Familiært sprog                                                                                                                \n",
       "4                                    Familiært sprog                                                                                                                \n",
       "\n",
       "  Skal assistenten være en mand, en kvinde, eller ikke-binær?  \\\n",
       "0                                             Kvinde            \n",
       "1                                               Mand            \n",
       "2                                               Mand            \n",
       "3                                         Ikke-binær            \n",
       "4                                         Ikke-binær            \n",
       "\n",
       "  Hvor gammel er du? Hvad er dit køn?  \n",
       "0              25-34           Kvinde  \n",
       "1              55-64           Kvinde  \n",
       "2              45-54             Mand  \n",
       "3              55-64           Kvinde  \n",
       "4              45-54           Kvinde  "
      ]
     },
     "execution_count": 24,
     "metadata": {},
     "output_type": "execute_result"
    }
   ],
   "source": [
    "df = pd.read_excel('BRIAN_Questionnaire_results.xlsx')\n",
    "df.head()"
   ]
  },
  {
   "cell_type": "code",
   "execution_count": 25,
   "id": "87767195",
   "metadata": {},
   "outputs": [
    {
     "name": "stdout",
     "output_type": "stream",
     "text": [
      "<class 'pandas.core.frame.DataFrame'>\n",
      "RangeIndex: 102 entries, 0 to 101\n",
      "Data columns (total 16 columns):\n",
      " #   Column             Non-Null Count  Dtype         \n",
      "---  ------             --------------  -----         \n",
      " 0   ID                 102 non-null    int64         \n",
      " 1   Start time         102 non-null    datetime64[ns]\n",
      " 2   Completion time    102 non-null    datetime64[ns]\n",
      " 3   Email              102 non-null    object        \n",
      " 4   Name               0 non-null      float64       \n",
      " 5   Language           102 non-null    object        \n",
      " 6   AlreadyUse         102 non-null    object        \n",
      " 7   HasInterest        102 non-null    object        \n",
      " 8   PossibleFunctions  102 non-null    object        \n",
      " 9   Other              20 non-null     object        \n",
      " 10  KnowYourName       102 non-null    object        \n",
      " 11  Subtitles          102 non-null    object        \n",
      " 12  Formal/informal    102 non-null    object        \n",
      " 13  M/F/NB             102 non-null    object        \n",
      " 14  Age                102 non-null    object        \n",
      " 15  Gender             102 non-null    object        \n",
      "dtypes: datetime64[ns](2), float64(1), int64(1), object(12)\n",
      "memory usage: 12.9+ KB\n"
     ]
    }
   ],
   "source": [
    "df = df.rename(columns = {'Jeg bruger en virtuel assistent (Siri, Google Assistent, Alexa) i forvejen.':'AlreadyUse',\n",
    "               'En virtuel assistent på min computer kunne være interessant at prøve.':'HasInterest',\n",
    "               'Følgende er en liste over mulige funktioner, en sådan assistent kunne udføre på din computer. Markere venligst ALLE, som du synes kunne være interessante.\\nHusk, at alle funktioner er stemmestyret.':'PossibleFunctions',\n",
    "               'Hvis du har forslag til andre funktioner, må du gerne skrive dem her.':'Other',\n",
    "               'Skal assistenten kende dit navn og bruge det når han/hun taler til dig?':'KnowYourName',\n",
    "               'Skal assistenten vise det han/hun siger for at fremme forståelse (\"undertekster\")?':'Subtitles',\n",
    "               'Skal assistentens sprog være formelt eller mere familiært? For eksempen, skal han/hun sige \"Undskyld, jeg har ikke forstået\", eller er det ok med \"Hvabeha?\" :)':'Formal/informal',\n",
    "               'Skal assistenten være en mand, en kvinde, eller ikke-binær?':'M/F/NB',\n",
    "               'Hvor gammel er du?':'Age',\n",
    "               'Hvad er dit køn?':'Gender'}\n",
    "              )\n",
    "df.info()"
   ]
  },
  {
   "cell_type": "code",
   "execution_count": 26,
   "id": "64b730db",
   "metadata": {},
   "outputs": [
    {
     "name": "stdout",
     "output_type": "stream",
     "text": [
      "<class 'pandas.core.frame.DataFrame'>\n",
      "RangeIndex: 823 entries, 0 to 822\n",
      "Data columns (total 16 columns):\n",
      " #   Column             Non-Null Count  Dtype         \n",
      "---  ------             --------------  -----         \n",
      " 0   ID                 823 non-null    int64         \n",
      " 1   Start time         823 non-null    datetime64[ns]\n",
      " 2   Completion time    823 non-null    datetime64[ns]\n",
      " 3   Email              823 non-null    object        \n",
      " 4   Name               0 non-null      float64       \n",
      " 5   Language           823 non-null    object        \n",
      " 6   AlreadyUse         823 non-null    object        \n",
      " 7   HasInterest        823 non-null    object        \n",
      " 8   PossibleFunctions  823 non-null    object        \n",
      " 9   Other              191 non-null    object        \n",
      " 10  KnowYourName       823 non-null    object        \n",
      " 11  Subtitles          823 non-null    object        \n",
      " 12  Formal/informal    823 non-null    object        \n",
      " 13  M/F/NB             823 non-null    object        \n",
      " 14  Age                823 non-null    object        \n",
      " 15  Gender             823 non-null    object        \n",
      "dtypes: datetime64[ns](2), float64(1), int64(1), object(12)\n",
      "memory usage: 103.0+ KB\n"
     ]
    }
   ],
   "source": [
    "# split the strings into lists and update the df\n",
    "df['PossibleFunctions'] = df['PossibleFunctions'].str.split(';')\n",
    "\n",
    "# explode the lists\n",
    "df = df.explode('PossibleFunctions').reset_index(drop=True) # This takes about 8 seconds\n",
    "\n",
    "df.info()"
   ]
  },
  {
   "cell_type": "code",
   "execution_count": 27,
   "id": "98b01aeb",
   "metadata": {},
   "outputs": [],
   "source": [
    "# Oops - having corrected spelling later on created double columns - I'll merge here\n",
    "df['PossibleFunctions'] = df['PossibleFunctions'].replace(['Påmindelser (i vælger hvornår)'],'Påmindelser (du vælger hvornår)')\n",
    "df['PossibleFunctions'] = df['PossibleFunctions'].replace(['Vækkeur (præcis klokkeslet)'],'Vækkeur (præcis klokkeslæt)')\n",
    "df['PossibleFunctions'] = df['PossibleFunctions'].replace(['Åbner programmer på jeres desktop'],'Åbner programmer på din desktop')"
   ]
  },
  {
   "cell_type": "code",
   "execution_count": 30,
   "id": "90d916b3",
   "metadata": {},
   "outputs": [],
   "source": [
    "df.to_csv('questionnaire_results.csv')"
   ]
  },
  {
   "cell_type": "code",
   "execution_count": 6,
   "id": "50c3ae22",
   "metadata": {},
   "outputs": [
    {
     "data": {
      "text/html": [
       "<div>\n",
       "<style scoped>\n",
       "    .dataframe tbody tr th:only-of-type {\n",
       "        vertical-align: middle;\n",
       "    }\n",
       "\n",
       "    .dataframe tbody tr th {\n",
       "        vertical-align: top;\n",
       "    }\n",
       "\n",
       "    .dataframe thead th {\n",
       "        text-align: right;\n",
       "    }\n",
       "</style>\n",
       "<table border=\"1\" class=\"dataframe\">\n",
       "  <thead>\n",
       "    <tr style=\"text-align: right;\">\n",
       "      <th></th>\n",
       "      <th>Function</th>\n",
       "      <th>count</th>\n",
       "    </tr>\n",
       "  </thead>\n",
       "  <tbody>\n",
       "    <tr>\n",
       "      <th>1</th>\n",
       "      <td>\"Fortæl mig en vittighed\"</td>\n",
       "      <td>31</td>\n",
       "    </tr>\n",
       "    <tr>\n",
       "      <th>5</th>\n",
       "      <td>Informationssøgning på Wikipedia</td>\n",
       "      <td>36</td>\n",
       "    </tr>\n",
       "    <tr>\n",
       "      <th>7</th>\n",
       "      <td>Oplæse indkomne emails</td>\n",
       "      <td>38</td>\n",
       "    </tr>\n",
       "    <tr>\n",
       "      <th>12</th>\n",
       "      <td>Timer (om X minutter)</td>\n",
       "      <td>39</td>\n",
       "    </tr>\n",
       "    <tr>\n",
       "      <th>11</th>\n",
       "      <td>Sende emails</td>\n",
       "      <td>42</td>\n",
       "    </tr>\n",
       "    <tr>\n",
       "      <th>2</th>\n",
       "      <td>Dagens nyheder</td>\n",
       "      <td>43</td>\n",
       "    </tr>\n",
       "    <tr>\n",
       "      <th>6</th>\n",
       "      <td>Matematiske beregninger</td>\n",
       "      <td>44</td>\n",
       "    </tr>\n",
       "    <tr>\n",
       "      <th>14</th>\n",
       "      <td>Vækkeur (præcis klokkeslæt)</td>\n",
       "      <td>44</td>\n",
       "    </tr>\n",
       "    <tr>\n",
       "      <th>3</th>\n",
       "      <td>Enhedskonvertering (valuta, vægt, osv.)</td>\n",
       "      <td>45</td>\n",
       "    </tr>\n",
       "    <tr>\n",
       "      <th>15</th>\n",
       "      <td>Åbner programmer på din desktop</td>\n",
       "      <td>45</td>\n",
       "    </tr>\n",
       "    <tr>\n",
       "      <th>10</th>\n",
       "      <td>Påmindelser (du vælger hvornår)</td>\n",
       "      <td>54</td>\n",
       "    </tr>\n",
       "    <tr>\n",
       "      <th>8</th>\n",
       "      <td>Oprette notater / tekst filer som i dikterer</td>\n",
       "      <td>56</td>\n",
       "    </tr>\n",
       "    <tr>\n",
       "      <th>13</th>\n",
       "      <td>To-do liste</td>\n",
       "      <td>63</td>\n",
       "    </tr>\n",
       "    <tr>\n",
       "      <th>4</th>\n",
       "      <td>Informationssøgning på Google</td>\n",
       "      <td>70</td>\n",
       "    </tr>\n",
       "    <tr>\n",
       "      <th>9</th>\n",
       "      <td>Oversættelse til et valgfrit sprog (Google ove...</td>\n",
       "      <td>71</td>\n",
       "    </tr>\n",
       "  </tbody>\n",
       "</table>\n",
       "</div>"
      ],
      "text/plain": [
       "                                             Function  count\n",
       "1                           \"Fortæl mig en vittighed\"     31\n",
       "5                    Informationssøgning på Wikipedia     36\n",
       "7                              Oplæse indkomne emails     38\n",
       "12                              Timer (om X minutter)     39\n",
       "11                                       Sende emails     42\n",
       "2                                      Dagens nyheder     43\n",
       "6                             Matematiske beregninger     44\n",
       "14                        Vækkeur (præcis klokkeslæt)     44\n",
       "3             Enhedskonvertering (valuta, vægt, osv.)     45\n",
       "15                    Åbner programmer på din desktop     45\n",
       "10                    Påmindelser (du vælger hvornår)     54\n",
       "8        Oprette notater / tekst filer som i dikterer     56\n",
       "13                                        To-do liste     63\n",
       "4                       Informationssøgning på Google     70\n",
       "9   Oversættelse til et valgfrit sprog (Google ove...     71"
      ]
     },
     "execution_count": 6,
     "metadata": {},
     "output_type": "execute_result"
    }
   ],
   "source": [
    "result= df.groupby('PossibleFunctions')['ID'].nunique().reset_index().rename(columns={'ID': 'count', 'PossibleFunctions':'Function'})\n",
    "# remove blank values\n",
    "result = result[result['Function'] != '']\n",
    "result.sort_values(by=['count'], inplace=True, ascending=True)\n",
    "result"
   ]
  },
  {
   "cell_type": "code",
   "execution_count": 7,
   "id": "0ccc1d4d",
   "metadata": {},
   "outputs": [
    {
     "data": {
      "image/png": "[encoded data removed]",
      "text/plain": [
       "<Figure size 1152x432 with 1 Axes>"
      ]
     },
     "metadata": {
      "needs_background": "light"
     },
     "output_type": "display_data"
    }
   ],
   "source": [
    "plt.figure(figsize=(16, 6))\n",
    "sns.set_style(\"white\")\n",
    "sns.barplot(x = 'count',\n",
    "            y = 'Function',\n",
    "            data = result,\n",
    "            palette = 'tab10',\n",
    "            orient = 'h'\n",
    "           ).set_title('BRIAN - Suggested functions', fontsize = 18, fontweight = 'bold')\n",
    "sns.despine();"
   ]
  },
  {
   "cell_type": "code",
   "execution_count": 8,
   "id": "c8b80251",
   "metadata": {},
   "outputs": [
    {
     "data": {
      "image/png": "[encoded data removed]",
      "text/plain": [
       "<Figure size 432x288 with 1 Axes>"
      ]
     },
     "metadata": {},
     "output_type": "display_data"
    }
   ],
   "source": [
    "# count plot on single categorical variable\n",
    "result= df.groupby('AlreadyUse')['ID'].nunique().reset_index().rename(columns={'ID': 'count'})\n",
    "sns.barplot(x ='AlreadyUse', \n",
    "            y = 'count', \n",
    "            data = result, \n",
    "            palette = 'tab10'\n",
    "           )\n",
    "sns.despine();"
   ]
  },
  {
   "cell_type": "code",
   "execution_count": 9,
   "id": "4aff7b12",
   "metadata": {},
   "outputs": [
    {
     "data": {
      "image/png": "[encoded data removed]",
      "text/plain": [
       "<Figure size 432x288 with 1 Axes>"
      ]
     },
     "metadata": {},
     "output_type": "display_data"
    }
   ],
   "source": [
    "result= df.groupby('HasInterest')['ID'].nunique().reset_index().rename(columns={'ID': 'count'})\n",
    "sns.barplot(x ='HasInterest', \n",
    "            y = 'count', \n",
    "            data = result, \n",
    "            palette = 'tab10'\n",
    "           )\n",
    "sns.despine();"
   ]
  },
  {
   "cell_type": "code",
   "execution_count": 10,
   "id": "6aec6177",
   "metadata": {},
   "outputs": [
    {
     "data": {
      "image/png": "[encoded data removed]",
      "text/plain": [
       "<Figure size 432x288 with 1 Axes>"
      ]
     },
     "metadata": {},
     "output_type": "display_data"
    }
   ],
   "source": [
    "result= df.groupby('KnowYourName')['ID'].nunique().reset_index().rename(columns={'ID': 'count'})\n",
    "sns.barplot(x ='KnowYourName', \n",
    "            y = 'count', \n",
    "            data = result, \n",
    "            palette = 'tab10'\n",
    "           )\n",
    "sns.despine();"
   ]
  },
  {
   "cell_type": "code",
   "execution_count": 11,
   "id": "46af12a6",
   "metadata": {},
   "outputs": [
    {
     "data": {
      "image/png": "[encoded data removed]",
      "text/plain": [
       "<Figure size 432x288 with 1 Axes>"
      ]
     },
     "metadata": {},
     "output_type": "display_data"
    }
   ],
   "source": [
    "result= df.groupby('Subtitles')['ID'].nunique().reset_index().rename(columns={'ID': 'count'})\n",
    "sns.barplot(x ='Subtitles', \n",
    "            y = 'count', \n",
    "            data = result, \n",
    "            palette = 'tab10'\n",
    "           )\n",
    "sns.despine();"
   ]
  },
  {
   "cell_type": "code",
   "execution_count": 12,
   "id": "d2a91e3c",
   "metadata": {},
   "outputs": [
    {
     "data": {
      "image/png": "[encoded data removed]",
      "text/plain": [
       "<Figure size 432x288 with 1 Axes>"
      ]
     },
     "metadata": {},
     "output_type": "display_data"
    }
   ],
   "source": [
    "result= df.groupby('Formal/informal')['ID'].nunique().reset_index().rename(columns={'ID': 'count'})\n",
    "sns.barplot(x ='Formal/informal', \n",
    "            y = 'count', \n",
    "            data = result, \n",
    "            palette = 'tab10'\n",
    "           )\n",
    "sns.despine();"
   ]
  },
  {
   "cell_type": "code",
   "execution_count": 13,
   "id": "bc746b88",
   "metadata": {},
   "outputs": [
    {
     "data": {
      "image/png": "[encoded data removed]",
      "text/plain": [
       "<Figure size 432x288 with 1 Axes>"
      ]
     },
     "metadata": {},
     "output_type": "display_data"
    }
   ],
   "source": [
    "result= df.groupby('M/F/NB')['ID'].nunique().reset_index().rename(columns={'ID': 'count'})\n",
    "sns.barplot(x ='M/F/NB', \n",
    "            y = 'count', \n",
    "            data = result, \n",
    "            palette = 'tab10'\n",
    "           )\n",
    "sns.despine();"
   ]
  },
  {
   "cell_type": "code",
   "execution_count": 14,
   "id": "33855828",
   "metadata": {},
   "outputs": [
    {
     "data": {
      "image/png": "[encoded data removed]",
      "text/plain": [
       "<Figure size 432x288 with 1 Axes>"
      ]
     },
     "metadata": {},
     "output_type": "display_data"
    }
   ],
   "source": [
    "result= df.groupby('Age')['ID'].nunique().reset_index().rename(columns={'ID': 'count'})\n",
    "sns.barplot(x ='Age', \n",
    "            y = 'count', \n",
    "            data = result, \n",
    "            palette = 'tab10'\n",
    "           )\n",
    "sns.despine();"
   ]
  },
  {
   "cell_type": "code",
   "execution_count": 15,
   "id": "0e59eb56",
   "metadata": {},
   "outputs": [
    {
     "data": {
      "image/png": "[encoded data removed]",
      "text/plain": [
       "<Figure size 432x288 with 1 Axes>"
      ]
     },
     "metadata": {},
     "output_type": "display_data"
    }
   ],
   "source": [
    "result= df.groupby('Gender')['ID'].nunique().reset_index().rename(columns={'ID': 'count'})\n",
    "sns.barplot(x ='Gender', \n",
    "            y = 'count', \n",
    "            data = result, \n",
    "            palette = 'tab10'\n",
    "           )\n",
    "sns.despine();"
   ]
  },
  {
   "cell_type": "code",
   "execution_count": 18,
   "id": "bb043cd0",
   "metadata": {},
   "outputs": [
    {
     "data": {
      "text/html": [
       "<div>\n",
       "<style scoped>\n",
       "    .dataframe tbody tr th:only-of-type {\n",
       "        vertical-align: middle;\n",
       "    }\n",
       "\n",
       "    .dataframe tbody tr th {\n",
       "        vertical-align: top;\n",
       "    }\n",
       "\n",
       "    .dataframe thead th {\n",
       "        text-align: right;\n",
       "    }\n",
       "</style>\n",
       "<table border=\"1\" class=\"dataframe\">\n",
       "  <thead>\n",
       "    <tr style=\"text-align: right;\">\n",
       "      <th></th>\n",
       "      <th>ID</th>\n",
       "      <th>Task</th>\n",
       "      <th>Start</th>\n",
       "      <th>Finish</th>\n",
       "      <th>Category</th>\n",
       "      <th>duration</th>\n",
       "      <th>rel_start</th>\n",
       "    </tr>\n",
       "  </thead>\n",
       "  <tbody>\n",
       "    <tr>\n",
       "      <th>0</th>\n",
       "      <td>0</td>\n",
       "      <td>Inception</td>\n",
       "      <td>2022-02-09</td>\n",
       "      <td>2022-02-23</td>\n",
       "      <td>UML</td>\n",
       "      <td>15</td>\n",
       "      <td>0</td>\n",
       "    </tr>\n",
       "    <tr>\n",
       "      <th>1</th>\n",
       "      <td>1</td>\n",
       "      <td>Elaboration – I</td>\n",
       "      <td>2022-02-24</td>\n",
       "      <td>2022-03-08</td>\n",
       "      <td>UML</td>\n",
       "      <td>13</td>\n",
       "      <td>15</td>\n",
       "    </tr>\n",
       "    <tr>\n",
       "      <th>2</th>\n",
       "      <td>2</td>\n",
       "      <td>Elaboration – II</td>\n",
       "      <td>2022-03-09</td>\n",
       "      <td>2022-03-23</td>\n",
       "      <td>UML</td>\n",
       "      <td>15</td>\n",
       "      <td>28</td>\n",
       "    </tr>\n",
       "    <tr>\n",
       "      <th>3</th>\n",
       "      <td>3</td>\n",
       "      <td>Construction</td>\n",
       "      <td>2022-03-24</td>\n",
       "      <td>2022-04-20</td>\n",
       "      <td>Coding</td>\n",
       "      <td>28</td>\n",
       "      <td>43</td>\n",
       "    </tr>\n",
       "    <tr>\n",
       "      <th>4</th>\n",
       "      <td>4</td>\n",
       "      <td>Transition</td>\n",
       "      <td>2022-04-21</td>\n",
       "      <td>2022-04-27</td>\n",
       "      <td>Coding</td>\n",
       "      <td>7</td>\n",
       "      <td>71</td>\n",
       "    </tr>\n",
       "    <tr>\n",
       "      <th>5</th>\n",
       "      <td>5</td>\n",
       "      <td>Authoring</td>\n",
       "      <td>2022-04-28</td>\n",
       "      <td>2022-05-11</td>\n",
       "      <td>Report</td>\n",
       "      <td>14</td>\n",
       "      <td>78</td>\n",
       "    </tr>\n",
       "    <tr>\n",
       "      <th>6</th>\n",
       "      <td>6</td>\n",
       "      <td>Correction</td>\n",
       "      <td>2022-05-12</td>\n",
       "      <td>2022-05-19</td>\n",
       "      <td>Report</td>\n",
       "      <td>8</td>\n",
       "      <td>92</td>\n",
       "    </tr>\n",
       "    <tr>\n",
       "      <th>7</th>\n",
       "      <td>7</td>\n",
       "      <td>Finalizing</td>\n",
       "      <td>2022-05-20</td>\n",
       "      <td>2022-05-22</td>\n",
       "      <td>All</td>\n",
       "      <td>3</td>\n",
       "      <td>100</td>\n",
       "    </tr>\n",
       "  </tbody>\n",
       "</table>\n",
       "</div>"
      ],
      "text/plain": [
       "   ID              Task      Start     Finish Category  duration  rel_start\n",
       "0   0         Inception 2022-02-09 2022-02-23      UML        15          0\n",
       "1   1   Elaboration – I 2022-02-24 2022-03-08      UML        13         15\n",
       "2   2  Elaboration – II 2022-03-09 2022-03-23      UML        15         28\n",
       "3   3      Construction 2022-03-24 2022-04-20   Coding        28         43\n",
       "4   4        Transition 2022-04-21 2022-04-27   Coding         7         71\n",
       "5   5         Authoring 2022-04-28 2022-05-11   Report        14         78\n",
       "6   6        Correction 2022-05-12 2022-05-19   Report         8         92\n",
       "7   7        Finalizing 2022-05-20 2022-05-22      All         3        100"
      ]
     },
     "execution_count": 18,
     "metadata": {},
     "output_type": "execute_result"
    }
   ],
   "source": [
    "df = pd.read_csv('Gantt_data.csv')\n",
    "\n",
    "##### PRE-PROCESSING THE DATA ###### \n",
    "#Convert dates to datetime format\n",
    "df[[\"Start\", \"Finish\"]] = df[[\"Start\", \"Finish\"]].apply(pd.to_datetime)\n",
    "\n",
    "#Add Duration\n",
    "df['duration']=df.Finish-df.Start\n",
    "df.duration=df.duration.apply(lambda x: x.days+1)\n",
    "\n",
    "#sort in ascending order of start date\n",
    "df=df.sort_values(by='Start', ascending=True)\n",
    "\n",
    "#project level variables\n",
    "p_start=df.Start.min()\n",
    "p_end=df.Finish.max()\n",
    "p_duration=(p_end-p_start).days+1\n",
    "\n",
    "#Add relative date\n",
    "df['rel_start']=df.Start.apply(lambda x: (x-p_start).days)\n",
    "df"
   ]
  },
  {
   "cell_type": "code",
   "execution_count": 19,
   "id": "f8d51aed",
   "metadata": {},
   "outputs": [
    {
     "data": {
      "image/png": "[encoded data removed]",
      "text/plain": [
       "<Figure size 1152x432 with 1 Axes>"
      ]
     },
     "metadata": {},
     "output_type": "display_data"
    }
   ],
   "source": [
    "#Create custom x-ticks and x-tick labels\n",
    "x_ticks=[i for i in range(p_duration+1)]\n",
    "x_labels=[(p_start+dt.timedelta(days=i)).strftime('%d-%b') \n",
    "          for i in x_ticks] \n",
    "\n",
    "# colours\n",
    "c_dict={'UML':'orange', 'Coding':'green', 'Report':'blue', 'All':'red'}\n",
    "\n",
    "\n",
    "######  PLOTTING GANTT CHART ######\n",
    "plt.figure(figsize=(16,6))\n",
    "plt.title('Gantt Chart: BRIAN', size=18)\n",
    "\n",
    "for i in range(df.shape[0]):\n",
    "    color=c_dict[df.Category[i]]\n",
    "    plt.barh(y=df.Task[i], left=df.rel_start[i], \n",
    "             width=df.duration[i], alpha=0.75, \n",
    "             color=color)\n",
    "\n",
    "legend_elements = [Patch(facecolor=c_dict[i], label=i)  for i in c_dict]\n",
    "plt.legend(handles=legend_elements)\n",
    "plt.gca().invert_yaxis()\n",
    "plt.xticks(ticks=x_ticks[::5], labels=x_labels[::5], rotation=90, ha='right', rotation_mode='anchor')\n",
    "plt.grid(axis='x');"
   ]
  },
  {
   "cell_type": "code",
   "execution_count": null,
   "id": "214223d4",
   "metadata": {},
   "outputs": [],
   "source": []
  }
 ],
 "metadata": {
  "kernelspec": {
   "display_name": "Python 3 (ipykernel)",
   "language": "python",
   "name": "python3"
  },
  "language_info": {
   "codemirror_mode": {
    "name": "ipython",
    "version": 3
   },
   "file_extension": ".py",
   "mimetype": "text/x-python",
   "name": "python",
   "nbconvert_exporter": "python",
   "pygments_lexer": "ipython3",
   "version": "3.9.7"
  }
 },
 "nbformat": 4,
 "nbformat_minor": 5
}
